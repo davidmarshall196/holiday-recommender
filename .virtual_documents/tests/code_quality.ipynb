import sys
sys.path.append('../')
from src import code_quality_functions as q


#q.run_unit_tests('../tests/', '../src', '../src')


checks = q.run_code_quality_checks(src_folder = '../src', exclude_folder = '../src/.ipynb_checkpoints')


checks = q.run_code_quality_checks(src_folder = '../tests', exclude_folder = '../tests/.ipynb_checkpoints')



