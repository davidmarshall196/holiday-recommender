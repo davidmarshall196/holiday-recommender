{
 "cells": [
  {
   "cell_type": "code",
   "execution_count": 1,
   "id": "18fea566-48d5-452a-9cbf-4d1840baa28a",
   "metadata": {
    "tags": []
   },
   "outputs": [],
   "source": [
    "import sys\n",
    "sys.path.append('../')\n",
    "from src import code_quality_functions as q"
   ]
  },
  {
   "cell_type": "code",
   "execution_count": null,
   "id": "453c08c1-1e1f-45c2-883a-152bf650be6b",
   "metadata": {
    "tags": []
   },
   "outputs": [
    {
     "name": "stdout",
     "output_type": "stream",
     "text": [
      "============================= test session starts ==============================\n",
      "platform darwin -- Python 3.8.10, pytest-5.4.3, py-1.11.0, pluggy-0.13.1 -- /Users/david@inawisdom.com/Documents/Projects/TSB/ML/tsb_analysis/.venv/bin/python\n",
      "rootdir: /Users/david@inawisdom.com/Documents/Training/travel_app/tests\n",
      "plugins: mock-3.11.1, requests-mock-1.11.0, cov-4.0.0, anyio-3.6.2, Faker-17.6.0\n",
      "collecting ... "
     ]
    }
   ],
   "source": [
    "q.run_unit_tests('../tests/', '../src', '../src')"
   ]
  },
  {
   "cell_type": "code",
   "execution_count": null,
   "id": "93b3afad-3b00-4f58-ab08-2399630d89db",
   "metadata": {},
   "outputs": [],
   "source": []
  }
 ],
 "metadata": {
  "kernelspec": {
   "display_name": "tsb-analysis",
   "language": "python",
   "name": "tsb-analysis"
  },
  "language_info": {
   "codemirror_mode": {
    "name": "ipython",
    "version": 3
   },
   "file_extension": ".py",
   "mimetype": "text/x-python",
   "name": "python",
   "nbconvert_exporter": "python",
   "pygments_lexer": "ipython3",
   "version": "3.8.10"
  }
 },
 "nbformat": 4,
 "nbformat_minor": 5
}
