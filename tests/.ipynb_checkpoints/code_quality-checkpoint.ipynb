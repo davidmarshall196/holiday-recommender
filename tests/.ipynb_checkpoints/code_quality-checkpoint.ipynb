{
 "cells": [
  {
   "cell_type": "code",
   "execution_count": 1,
   "id": "18fea566-48d5-452a-9cbf-4d1840baa28a",
   "metadata": {
    "tags": []
   },
   "outputs": [],
   "source": [
    "import sys\n",
    "sys.path.append('../')\n",
    "from src import code_quality_functions as q"
   ]
  },
  {
   "cell_type": "code",
   "execution_count": 1,
   "id": "453c08c1-1e1f-45c2-883a-152bf650be6b",
   "metadata": {
    "tags": []
   },
   "outputs": [],
   "source": [
    "#q.run_unit_tests('../tests/', '../src', '../src')"
   ]
  },
  {
   "cell_type": "code",
   "execution_count": 8,
   "id": "c6e44255-9fa1-4141-9747-b539a66eec7c",
   "metadata": {
    "tags": []
   },
   "outputs": [
    {
     "name": "stdout",
     "output_type": "stream",
     "text": [
      "Black Output:\n",
      "All done! ✨ 🍰 ✨\n",
      "22 files left unchanged.\n",
      "\n",
      "\n",
      "Flake8 Output:\n",
      "Done. Flake8 has no improvements!\n"
     ]
    }
   ],
   "source": [
    "checks = q.run_code_quality_checks(src_folder = '../src', exclude_folder = '../src/.ipynb_checkpoints')"
   ]
  },
  {
   "cell_type": "code",
   "execution_count": 11,
   "id": "88356b27-af04-4f59-ac62-1972b9d49d67",
   "metadata": {
    "tags": []
   },
   "outputs": [
    {
     "name": "stdout",
     "output_type": "stream",
     "text": [
      "Black Output:\n",
      "Skipping .ipynb files as Jupyter dependencies are not installed.\n",
      "You can fix this by running ``pip install \"black[jupyter]\"``\n",
      "reformatted /Users/david@inawisdom.com/Documents/Training/travel_app/tests/test_flight_functions.py\n",
      "reformatted /Users/david@inawisdom.com/Documents/Training/travel_app/tests/.ipynb_checkpoints/test_flight_functions-checkpoint.py\n",
      "\n",
      "All done! ✨ 🍰 ✨\n",
      "2 files reformatted, 13 files left unchanged.\n",
      "\n",
      "\n",
      "Flake8 Output:\n",
      "Done. Flake8 has no improvements!\n"
     ]
    }
   ],
   "source": [
    "checks = q.run_code_quality_checks(src_folder = '../tests', exclude_folder = '../tests/.ipynb_checkpoints')"
   ]
  },
  {
   "cell_type": "code",
   "execution_count": null,
   "id": "348cf077-348d-4c66-b089-5cd311e50edc",
   "metadata": {},
   "outputs": [],
   "source": []
  }
 ],
 "metadata": {
  "kernelspec": {
   "display_name": "tsb-analysis",
   "language": "python",
   "name": "tsb-analysis"
  },
  "language_info": {
   "codemirror_mode": {
    "name": "ipython",
    "version": 3
   },
   "file_extension": ".py",
   "mimetype": "text/x-python",
   "name": "python",
   "nbconvert_exporter": "python",
   "pygments_lexer": "ipython3",
   "version": "3.8.10"
  }
 },
 "nbformat": 4,
 "nbformat_minor": 5
}
