{
 "cells": [
  {
   "cell_type": "code",
   "execution_count": 1,
   "id": "18fea566-48d5-452a-9cbf-4d1840baa28a",
   "metadata": {
    "tags": []
   },
   "outputs": [],
   "source": [
    "import sys\n",
    "sys.path.append('../')\n",
    "from src import code_quality_functions as q"
   ]
  },
  {
   "cell_type": "code",
   "execution_count": 2,
   "id": "453c08c1-1e1f-45c2-883a-152bf650be6b",
   "metadata": {
    "tags": []
   },
   "outputs": [
    {
     "name": "stdout",
     "output_type": "stream",
     "text": [
      "============================= test session starts ==============================\n",
      "platform darwin -- Python 3.8.10, pytest-5.4.3, py-1.11.0, pluggy-0.13.1 -- /Users/david@inawisdom.com/Documents/Projects/TSB/ML/tsb_analysis/.venv/bin/python\n",
      "rootdir: /Users/david@inawisdom.com/Documents/Training/travel_app/tests\n",
      "plugins: mock-3.11.1, requests-mock-1.11.0, cov-4.0.0, anyio-3.6.2, Faker-17.6.0\n",
      "collecting ... collected 23 items\n",
      "\n",
      "test_chatgpt_functions.py::test_extract_place_country[London, England. I suggest visiting London, England for your holiday.-expected_output0] PASSED [  4%]\n",
      "test_chatgpt_functions.py::test_extract_place_country[New York, USA. I suggest visiting New York, USA for your holiday.-expected_output1] PASSED [  8%]\n",
      "test_chatgpt_functions.py::test_extract_place_country[Tokyo, Japan.-expected_output2] PASSED [ 13%]\n",
      "test_chatgpt_functions.py::test_fetch_and_extract_destination_testing_true PASSED [ 17%]\n",
      "test_chatgpt_functions.py::test_fetch_and_extract_destination_testing_false PASSED [ 21%]\n",
      "test_chatgpt_functions.py::test_get_lat_lon[London-UK-None-None] PASSED  [ 26%]\n",
      "test_chatgpt_functions.py::test_get_lat_lon[New York-USA-mock_location1-expected_output1] PASSED [ 30%]\n",
      "test_code_quality_functions.py::test_run_unit_tests PASSED               [ 34%]\n",
      "test_code_quality_functions.py::test_run_unit_tests_failure PASSED       [ 39%]\n",
      "test_code_quality_functions.py::test_run_code_quality_checks[0---None] PASSED [ 43%]\n",
      "test_code_quality_functions.py::test_run_code_quality_checks[1-flake8 error--flake8 error] PASSED [ 47%]\n",
      "test_code_quality_functions.py::test_run_code_quality_checks[1--black error-black error] PASSED [ 52%]\n",
      "test_code_quality_functions.py::test_subprocess_error PASSED             [ 56%]\n",
      "test_hotel_functions.py::test_create_hotel_dataframe PASSED              [ 60%]\n",
      "test_hotel_functions.py::test_fetch_hotels_by_location_with_testing_true PASSED [ 65%]\n",
      "test_hotel_functions.py::test_fetch_hotels_by_location_api_call PASSED   [ 69%]\n",
      "test_s3_functions.py::test_grab_data_s3[some/file/path.csv-some-bucket-col1,col2\\n1,2\\n3,4\\n-expected_output0] PASSED [ 73%]\n",
      "test_s3_functions.py::test_grab_image_s3[some/image/path.jpg-some-bucket-JPEG-mock_image_stream0] PASSED [ 78%]\n",
      "test_s3_functions.py::test_save_image_s3[JPEG-some/image/path.jpg-some-bucket-None] PASSED [ 82%]\n",
      "test_s3_functions.py::test_save_image_s3[PNG-some/image/path.jpg-some-bucket-Exception] PASSED [ 86%]\n",
      "test_s3_functions.py::test_image_exists_in_s3[None-True] PASSED          [ 91%]\n",
      "test_s3_functions.py::test_image_exists_in_s3[404-False] PASSED          [ 95%]\n",
      "test_s3_functions.py::test_image_exists_in_s3[403-ClientError] PASSED    [100%]\n",
      "\n",
      "---------- coverage: platform darwin, python 3.8.10-final-0 ----------\n",
      "Name                                                                                     Stmts   Miss  Cover   Missing\n",
      "----------------------------------------------------------------------------------------------------------------------\n",
      "/Users/david@inawisdom.com/Documents/Training/travel_app/src/__init__.py                     0      0   100%\n",
      "/Users/david@inawisdom.com/Documents/Training/travel_app/src/chatgpt_functions.py           34      2    94%   38-42\n",
      "/Users/david@inawisdom.com/Documents/Training/travel_app/src/code_quality_functions.py      42      8    81%   1-7, 54, 71, 87\n",
      "/Users/david@inawisdom.com/Documents/Training/travel_app/src/config.py                      18      1    94%   9\n",
      "/Users/david@inawisdom.com/Documents/Training/travel_app/src/constants.py                   15      0   100%\n",
      "/Users/david@inawisdom.com/Documents/Training/travel_app/src/flight_functions.py           122    122     0%   1-372\n",
      "/Users/david@inawisdom.com/Documents/Training/travel_app/src/google_functions.py            34     34     0%   2-86\n",
      "/Users/david@inawisdom.com/Documents/Training/travel_app/src/hotel_functions.py             33      3    91%   53-55\n",
      "/Users/david@inawisdom.com/Documents/Training/travel_app/src/s3_functions.py                74     23    69%   39, 48-53, 79, 90, 93-98, 134, 149, 151, 178, 191-194\n",
      "/Users/david@inawisdom.com/Documents/Training/travel_app/src/weather_functions.py           28     28     0%   1-88\n",
      "----------------------------------------------------------------------------------------------------------------------\n",
      "TOTAL                                                                                      400    221    45%\n",
      "\n",
      "\n",
      "============================== 23 passed in 6.59s ==============================\n"
     ]
    },
    {
     "data": {
      "text/plain": [
       "<ExitCode.OK: 0>"
      ]
     },
     "execution_count": 2,
     "metadata": {},
     "output_type": "execute_result"
    }
   ],
   "source": [
    "q.run_unit_tests('../tests/', '../src', '../src')"
   ]
  },
  {
   "cell_type": "code",
   "execution_count": null,
   "id": "93b3afad-3b00-4f58-ab08-2399630d89db",
   "metadata": {},
   "outputs": [],
   "source": []
  }
 ],
 "metadata": {
  "kernelspec": {
   "display_name": "tsb-analysis",
   "language": "python",
   "name": "tsb-analysis"
  },
  "language_info": {
   "codemirror_mode": {
    "name": "ipython",
    "version": 3
   },
   "file_extension": ".py",
   "mimetype": "text/x-python",
   "name": "python",
   "nbconvert_exporter": "python",
   "pygments_lexer": "ipython3",
   "version": "3.8.10"
  }
 },
 "nbformat": 4,
 "nbformat_minor": 5
}
