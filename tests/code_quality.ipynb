{
 "cells": [
  {
   "cell_type": "code",
   "execution_count": 1,
   "id": "18fea566-48d5-452a-9cbf-4d1840baa28a",
   "metadata": {
    "tags": []
   },
   "outputs": [],
   "source": [
    "import sys\n",
    "sys.path.append('../')\n",
    "from src import code_quality_functions as q"
   ]
  },
  {
   "cell_type": "code",
   "execution_count": 2,
   "id": "453c08c1-1e1f-45c2-883a-152bf650be6b",
   "metadata": {
    "tags": []
   },
   "outputs": [
    {
     "name": "stdout",
     "output_type": "stream",
     "text": [
      "============================= test session starts ==============================\n",
      "platform darwin -- Python 3.8.10, pytest-5.4.3, py-1.11.0, pluggy-0.13.1 -- /Users/david@inawisdom.com/Documents/Projects/TSB/ML/tsb_analysis/.venv/bin/python\n",
      "rootdir: /Users/david@inawisdom.com/Documents/Training/travel_app/tests\n",
      "plugins: mock-3.11.1, requests-mock-1.11.0, cov-4.0.0, anyio-3.6.2, Faker-17.6.0\n",
      "collecting ... collected 36 items\n",
      "\n",
      "test_chatgpt_functions.py::test_extract_place_country[London, England. I suggest visiting London, England for your holiday.-expected_output0] PASSED [  2%]\n",
      "test_chatgpt_functions.py::test_extract_place_country[New York, USA. I suggest visiting New York, USA for your holiday.-expected_output1] PASSED [  5%]\n",
      "test_chatgpt_functions.py::test_extract_place_country[Tokyo, Japan.-expected_output2] PASSED [  8%]\n",
      "test_chatgpt_functions.py::test_fetch_and_extract_destination_testing_true PASSED [ 11%]\n",
      "test_chatgpt_functions.py::test_fetch_and_extract_destination_testing_false PASSED [ 13%]\n",
      "test_chatgpt_functions.py::test_get_lat_lon[London-UK-None-None] PASSED  [ 16%]\n",
      "test_chatgpt_functions.py::test_get_lat_lon[New York-USA-mock_location1-expected_output1] PASSED [ 19%]\n",
      "test_code_quality_functions.py::test_run_unit_tests PASSED               [ 22%]\n",
      "test_code_quality_functions.py::test_run_unit_tests_failure PASSED       [ 25%]\n",
      "test_code_quality_functions.py::test_run_code_quality_checks[0---None] PASSED [ 27%]\n",
      "test_code_quality_functions.py::test_run_code_quality_checks[1-flake8 error--flake8 error] PASSED [ 30%]\n",
      "test_code_quality_functions.py::test_run_code_quality_checks[1--black error-black error] PASSED [ 33%]\n",
      "test_code_quality_functions.py::test_subprocess_error PASSED             [ 36%]\n",
      "test_flight_functions.py::test_format_duration PASSED                    [ 38%]\n",
      "test_flight_functions.py::test_haversine_distance PASSED                 [ 41%]\n",
      "test_flight_functions.py::test_nearest_location PASSED                   [ 44%]\n",
      "test_flight_functions.py::test_find_nearest_airport PASSED               [ 47%]\n",
      "test_flight_functions.py::test_grab_airport_code PASSED                  [ 50%]\n",
      "test_flight_functions.py::test_grab_city PASSED                          [ 52%]\n",
      "test_flight_functions.py::test_parse_duration PASSED                     [ 55%]\n",
      "test_flight_functions.py::test_format_flight_row PASSED                  [ 58%]\n",
      "test_flight_functions.py::test_format_flights PASSED                     [ 61%]\n",
      "test_flight_functions.py::test_get_flight_offers PASSED                  [ 63%]\n",
      "test_google_functions.py::test_get_photo_of_place PASSED                 [ 66%]\n",
      "test_hotel_functions.py::test_create_hotel_dataframe PASSED              [ 69%]\n",
      "test_hotel_functions.py::test_fetch_hotels_by_location_with_testing_true PASSED [ 72%]\n",
      "test_hotel_functions.py::test_fetch_hotels_by_location_api_call PASSED   [ 75%]\n",
      "test_s3_functions.py::test_grab_data_s3[some/file/path.csv-some-bucket-col1,col2\\n1,2\\n3,4\\n-expected_output0] PASSED [ 77%]\n",
      "test_s3_functions.py::test_grab_image_s3[some/image/path.jpg-some-bucket-JPEG-mock_image_stream0] PASSED [ 80%]\n",
      "test_s3_functions.py::test_save_image_s3[JPEG-some/image/path.jpg-some-bucket-None] PASSED [ 83%]\n",
      "test_s3_functions.py::test_save_image_s3[PNG-some/image/path.jpg-some-bucket-Exception] PASSED [ 86%]\n",
      "test_s3_functions.py::test_image_exists_in_s3[None-True] PASSED          [ 88%]\n",
      "test_s3_functions.py::test_image_exists_in_s3[404-False] PASSED          [ 91%]\n",
      "test_s3_functions.py::test_image_exists_in_s3[403-ClientError] PASSED    [ 94%]\n",
      "test_weather_functions.py::test_get_weather PASSED                       [ 97%]\n",
      "test_weather_functions.py::test_weather_icon PASSED                      [100%]\n",
      "\n",
      "---------- coverage: platform darwin, python 3.8.10-final-0 ----------\n",
      "Name                                                                                     Stmts   Miss  Cover   Missing\n",
      "----------------------------------------------------------------------------------------------------------------------\n",
      "/Users/david@inawisdom.com/Documents/Training/travel_app/src/__init__.py                     0      0   100%\n",
      "/Users/david@inawisdom.com/Documents/Training/travel_app/src/chatgpt_functions.py           34      2    94%   38-42\n",
      "/Users/david@inawisdom.com/Documents/Training/travel_app/src/code_quality_functions.py      42      8    81%   1-7, 54, 71, 87\n",
      "/Users/david@inawisdom.com/Documents/Training/travel_app/src/config.py                      18      1    94%   9\n",
      "/Users/david@inawisdom.com/Documents/Training/travel_app/src/constants.py                   16      0   100%\n",
      "/Users/david@inawisdom.com/Documents/Training/travel_app/src/flight_functions.py           122     34    72%   123-160, 321, 331-370\n",
      "/Users/david@inawisdom.com/Documents/Training/travel_app/src/google_functions.py            34      0   100%\n",
      "/Users/david@inawisdom.com/Documents/Training/travel_app/src/hotel_functions.py             33      3    91%   53-55\n",
      "/Users/david@inawisdom.com/Documents/Training/travel_app/src/logging_helpers.py             14     14     0%   1-44\n",
      "/Users/david@inawisdom.com/Documents/Training/travel_app/src/s3_functions.py                74     23    69%   39, 48-53, 79, 90, 93-98, 134, 149, 151, 178, 191-194\n",
      "/Users/david@inawisdom.com/Documents/Training/travel_app/src/weather_functions.py           28      0   100%\n",
      "----------------------------------------------------------------------------------------------------------------------\n",
      "TOTAL                                                                                      415     85    80%\n",
      "\n",
      "\n",
      "============================== 36 passed in 6.22s ==============================\n"
     ]
    },
    {
     "data": {
      "text/plain": [
       "<ExitCode.OK: 0>"
      ]
     },
     "execution_count": 2,
     "metadata": {},
     "output_type": "execute_result"
    }
   ],
   "source": [
    "q.run_unit_tests('../tests/', '../src', '../src')"
   ]
  },
  {
   "cell_type": "code",
   "execution_count": 8,
   "id": "c6e44255-9fa1-4141-9747-b539a66eec7c",
   "metadata": {
    "tags": []
   },
   "outputs": [
    {
     "name": "stdout",
     "output_type": "stream",
     "text": [
      "Black Output:\n",
      "All done! ✨ 🍰 ✨\n",
      "22 files left unchanged.\n",
      "\n",
      "\n",
      "Flake8 Output:\n",
      "Done. Flake8 has no improvements!\n"
     ]
    }
   ],
   "source": [
    "checks = q.run_code_quality_checks(src_folder = '../src', exclude_folder = '../src/.ipynb_checkpoints')"
   ]
  },
  {
   "cell_type": "code",
   "execution_count": 11,
   "id": "88356b27-af04-4f59-ac62-1972b9d49d67",
   "metadata": {
    "tags": []
   },
   "outputs": [
    {
     "name": "stdout",
     "output_type": "stream",
     "text": [
      "Black Output:\n",
      "Skipping .ipynb files as Jupyter dependencies are not installed.\n",
      "You can fix this by running ``pip install \"black[jupyter]\"``\n",
      "reformatted /Users/david@inawisdom.com/Documents/Training/travel_app/tests/test_flight_functions.py\n",
      "reformatted /Users/david@inawisdom.com/Documents/Training/travel_app/tests/.ipynb_checkpoints/test_flight_functions-checkpoint.py\n",
      "\n",
      "All done! ✨ 🍰 ✨\n",
      "2 files reformatted, 13 files left unchanged.\n",
      "\n",
      "\n",
      "Flake8 Output:\n",
      "Done. Flake8 has no improvements!\n"
     ]
    }
   ],
   "source": [
    "checks = q.run_code_quality_checks(src_folder = '../tests', exclude_folder = '../tests/.ipynb_checkpoints')"
   ]
  },
  {
   "cell_type": "code",
   "execution_count": null,
   "id": "348cf077-348d-4c66-b089-5cd311e50edc",
   "metadata": {},
   "outputs": [],
   "source": []
  }
 ],
 "metadata": {
  "kernelspec": {
   "display_name": "tsb-analysis",
   "language": "python",
   "name": "tsb-analysis"
  },
  "language_info": {
   "codemirror_mode": {
    "name": "ipython",
    "version": 3
   },
   "file_extension": ".py",
   "mimetype": "text/x-python",
   "name": "python",
   "nbconvert_exporter": "python",
   "pygments_lexer": "ipython3",
   "version": "3.8.10"
  }
 },
 "nbformat": 4,
 "nbformat_minor": 5
}
